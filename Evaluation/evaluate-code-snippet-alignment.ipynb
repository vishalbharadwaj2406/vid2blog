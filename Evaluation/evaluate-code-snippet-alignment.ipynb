{
 "cells": [
  {
   "cell_type": "code",
   "execution_count": 27,
   "metadata": {},
   "outputs": [],
   "source": [
    "from openai import OpenAI\n",
    "client = OpenAI()\n",
    "from tqdm import tqdm"
   ]
  },
  {
   "cell_type": "code",
   "execution_count": 13,
   "metadata": {},
   "outputs": [],
   "source": [
    "def extract_markdown_blocks_with_code(file_path):\n",
    "    \"\"\"\n",
    "    Extracts blocks from a Markdown file.\n",
    "    A block starts with a line containing more than one '#' and ends at the next such line.\n",
    "    Lines within code blocks are included in the running block.\n",
    "\n",
    "    Returns a list of blocks, where each block is a single string.\n",
    "    \"\"\"\n",
    "    blocks = []\n",
    "    current_block = []\n",
    "    inside_code_block = False\n",
    "    block_started = False  # Flag to track if a block is in progress\n",
    "\n",
    "    try:\n",
    "        with open(file_path, 'r') as file:\n",
    "            for line in file:\n",
    "                stripped_line = line.strip()\n",
    "\n",
    "                # Toggle code block detection\n",
    "                if stripped_line.startswith('```'):\n",
    "                    inside_code_block = not inside_code_block\n",
    "                    # Include the ``` line in the current block\n",
    "                    if block_started:\n",
    "                        current_block.append(line.strip())\n",
    "                    continue\n",
    "\n",
    "                # Detect block start with more than one '#'\n",
    "                if not inside_code_block and stripped_line.startswith('#') and len(stripped_line.split(' ')[0]) > 1:\n",
    "                    if block_started:  # Save the current block if one is in progress\n",
    "                        blocks.append('\\n'.join(current_block))  # Convert the list to a string\n",
    "                        current_block = []\n",
    "                    block_started = True\n",
    "\n",
    "                if block_started:\n",
    "                    current_block.append(line.strip())\n",
    "\n",
    "            # Append the last block if it exists\n",
    "            if current_block:\n",
    "                blocks.append('\\n'.join(current_block))\n",
    "\n",
    "        return blocks\n",
    "\n",
    "    except FileNotFoundError:\n",
    "        print(f\"File not found: {file_path}\")\n",
    "        return []\n",
    "    except Exception as e:\n",
    "        print(f\"An error occurred: {e}\")\n",
    "        return []\n"
   ]
  },
  {
   "cell_type": "code",
   "execution_count": 28,
   "metadata": {},
   "outputs": [],
   "source": [
    "def score_code_relevance(blocks):\n",
    "    \"\"\"\n",
    "    Iterates through blocks, prompts GPT to score the relevance of code snippets to the text in the block.\n",
    "    Skips blocks without code snippets.\n",
    "    \n",
    "    Args:\n",
    "        blocks (list): A list of strings representing Markdown blocks.\n",
    "\n",
    "    Returns:\n",
    "        dict: A dictionary with block indices as keys and their relevance scores as values.\n",
    "    \"\"\"\n",
    "    def call_gpt(prompt):\n",
    "        response = client.chat.completions.create(\n",
    "            model=\"gpt-4o\",\n",
    "            messages=[\n",
    "                {\"role\": \"user\", \"content\": prompt}\n",
    "            ],\n",
    "            temperature=0.7,\n",
    "            seed=42\n",
    "        )\n",
    "        try:\n",
    "            score = int(response.choices[0].message.content)\n",
    "\n",
    "        except:\n",
    "            return None\n",
    "        return score  # Assume the score for demonstration\n",
    "    \n",
    "    scores = {}\n",
    "\n",
    "    # Iterate over blocks\n",
    "    for i, block in tqdm(enumerate(blocks)):\n",
    "        if '```' not in block:  # Skip blocks without code snippets\n",
    "            continue\n",
    "        \n",
    "        # Construct the GPT prompt\n",
    "        prompt = f\"\"\"\n",
    "Below is a text and a code snippet. Rate the relevance of the code snippet to the text on a scale of 0 to 5, \n",
    "where 0 means no relevance and 5 means perfect relevance.\n",
    "\n",
    "Text and Code Block:\n",
    "{block}\n",
    "\n",
    "Provide only the score as the response.\n",
    "\"\"\"\n",
    "        # Call GPT with the prompt\n",
    "        score = call_gpt(prompt)\n",
    "        if score is None:\n",
    "            continue\n",
    "        scores[i] = score  # Store the score with the block index as key\n",
    "\n",
    "    return scores\n"
   ]
  },
  {
   "cell_type": "code",
   "execution_count": 40,
   "metadata": {},
   "outputs": [],
   "source": [
    "blocks = extract_markdown_blocks_with_code('generated_blog.md')"
   ]
  },
  {
   "cell_type": "code",
   "execution_count": 41,
   "metadata": {},
   "outputs": [
    {
     "name": "stderr",
     "output_type": "stream",
     "text": [
      "94it [00:18,  5.00it/s]\n"
     ]
    }
   ],
   "source": [
    "scores = score_code_relevance(blocks)"
   ]
  },
  {
   "cell_type": "code",
   "execution_count": 47,
   "metadata": {},
   "outputs": [
    {
     "name": "stdout",
     "output_type": "stream",
     "text": [
      "Average score on 5: 4.804347826086956\n",
      "Average pecentage: 96.08695652173913%\n"
     ]
    }
   ],
   "source": [
    "average_score = sum([i for i in scores.values()]) / len(scores)\n",
    "print(f\"Average score on 5: {average_score}\")\n",
    "print(f\"Average pecentage: {((average_score/5)*100)}%\")"
   ]
  },
  {
   "cell_type": "code",
   "execution_count": null,
   "metadata": {},
   "outputs": [],
   "source": []
  },
  {
   "cell_type": "code",
   "execution_count": null,
   "metadata": {},
   "outputs": [],
   "source": []
  }
 ],
 "metadata": {
  "kernelspec": {
   "display_name": "cs598",
   "language": "python",
   "name": "python3"
  },
  "language_info": {
   "codemirror_mode": {
    "name": "ipython",
    "version": 3
   },
   "file_extension": ".py",
   "mimetype": "text/x-python",
   "name": "python",
   "nbconvert_exporter": "python",
   "pygments_lexer": "ipython3",
   "version": "3.10.15"
  }
 },
 "nbformat": 4,
 "nbformat_minor": 2
}
