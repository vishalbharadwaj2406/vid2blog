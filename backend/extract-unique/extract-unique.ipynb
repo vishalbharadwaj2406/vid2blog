{
 "cells": [
  {
   "cell_type": "code",
   "execution_count": 14,
   "metadata": {},
   "outputs": [
    {
     "name": "stdout",
     "output_type": "stream",
     "text": [
      "Unique frames: 2035\n"
     ]
    }
   ],
   "source": [
    "import cv2\n",
    "import os\n",
    "import numpy as np\n",
    "\n",
    "def process_frames(input_folder, output_folder, threshold_value=0):\n",
    "    if not os.path.exists(output_folder):\n",
    "        os.makedirs(output_folder)\n",
    "\n",
    "    previous_frame = None\n",
    "    frame_files = sorted([f for f in os.listdir(input_folder) if f.endswith('.jpg')])\n",
    "\n",
    "    count = 0\n",
    "    for frame_file in frame_files:\n",
    "        frame_path = os.path.join(input_folder, frame_file)\n",
    "        current_frame = cv2.imread(frame_path)\n",
    "\n",
    "        if previous_frame is not None:\n",
    "            difference = cv2.absdiff(current_frame, previous_frame)\n",
    "            gray_diff = cv2.cvtColor(difference, cv2.COLOR_BGR2GRAY)\n",
    "            mean_diff = np.mean(gray_diff)\n",
    "\n",
    "            if mean_diff > threshold_value:\n",
    "                count += 1\n",
    "                cv2.imwrite(os.path.join(output_folder, frame_file), current_frame)\n",
    "        else:\n",
    "            pass\n",
    "            cv2.imwrite(os.path.join(output_folder, frame_file), current_frame)  # Save the first frame\n",
    "        previous_frame = current_frame\n",
    "    print(f\"Unique frames: {count}\")\n",
    "\n",
    "input_folder = './GPTFrames'\n",
    "output_folder = './GPTFramesUnique'\n",
    "threshold_value = 1.4  # Adjust this value as needed\n",
    "\n",
    "process_frames(input_folder, output_folder, threshold_value)"
   ]
  }
 ],
 "metadata": {
  "kernelspec": {
   "display_name": "cvpr",
   "language": "python",
   "name": "python3"
  },
  "language_info": {
   "codemirror_mode": {
    "name": "ipython",
    "version": 3
   },
   "file_extension": ".py",
   "mimetype": "text/x-python",
   "name": "python",
   "nbconvert_exporter": "python",
   "pygments_lexer": "ipython3",
   "version": "3.11.8"
  }
 },
 "nbformat": 4,
 "nbformat_minor": 2
}
