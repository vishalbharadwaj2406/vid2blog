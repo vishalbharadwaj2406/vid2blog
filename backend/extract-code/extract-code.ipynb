{
 "cells": [
  {
   "cell_type": "code",
   "execution_count": null,
   "metadata": {},
   "outputs": [],
   "source": [
    "import base64\n",
    "from openai import OpenAI\n",
    "\n",
    "client = OpenAI(\n",
    ")"
   ]
  },
  {
   "cell_type": "code",
   "execution_count": null,
   "metadata": {},
   "outputs": [
    {
     "name": "stdout",
     "output_type": "stream",
     "text": [
      "Processing complete. Results saved to 'GPTFramesUnique.json'.\n"
     ]
    }
   ],
   "source": [
    "import os\n",
    "import base64\n",
    "import json\n",
    "from concurrent.futures import ThreadPoolExecutor, as_completed\n",
    "\n",
    "# Function to encode an image to base64\n",
    "def encode_image(image_path):\n",
    "    with open(image_path, \"rb\") as image_file:\n",
    "        return base64.b64encode(image_file.read()).decode('utf-8')\n",
    "\n",
    "# Function to extract code from an image\n",
    "extract_code_prompt = \"\"\"\n",
    "Extract any developer code from this image. \n",
    "If present, return only the code block, with no other explanation.\n",
    "If no code is present return 'Code NA'.\n",
    "\"\"\"\n",
    "\n",
    "def extract_code_from_image(image_path):\n",
    "    base64_image = encode_image(image_path)\n",
    "    response = client.chat.completions.create(\n",
    "        model=\"gpt-4o-mini\",\n",
    "        messages=[\n",
    "            {\n",
    "                \"role\": \"user\",\n",
    "                \"content\": [\n",
    "                    {\n",
    "                        \"type\": \"text\",\n",
    "                        \"text\": extract_code_prompt,\n",
    "                    },\n",
    "                    {\n",
    "                        \"type\": \"image_url\",\n",
    "                        \"image_url\": {\n",
    "                            \"url\": f\"data:image/jpeg;base64,{base64_image}\"\n",
    "                        },\n",
    "                    },\n",
    "                ],\n",
    "            }\n",
    "        ],\n",
    "    )\n",
    "    return response.choices[0].message.content\n",
    "\n",
    "# Function to process a single file\n",
    "def process_file(file_path):\n",
    "    try:\n",
    "        return extract_code_from_image(file_path)\n",
    "    except Exception as e:\n",
    "        return f\"Error: {e}\"\n",
    "\n",
    "# Function to process the entire folder using ThreadPoolExecutor\n",
    "def process_folder_parallel(folder_path, max_workers=4):\n",
    "    results = {}\n",
    "    file_paths = [\n",
    "        os.path.join(folder_path, file_name)\n",
    "        for file_name in sorted(os.listdir(folder_path))\n",
    "        if os.path.isfile(os.path.join(folder_path, file_name))\n",
    "    ]\n",
    "\n",
    "    # Using ThreadPoolExecutor for parallel processing\n",
    "    with ThreadPoolExecutor(max_workers=max_workers) as executor:\n",
    "        future_to_file = {executor.submit(process_file, file_path): file_path for file_path in file_paths}\n",
    "        \n",
    "        for future in as_completed(future_to_file):\n",
    "            file_path = future_to_file[future]\n",
    "            file_name = os.path.basename(file_path)\n",
    "            try:\n",
    "                results[file_name] = future.result()\n",
    "            except Exception as e:\n",
    "                results[file_name] = f\"Error: {e}\"\n",
    "    \n",
    "    return results\n",
    "\n",
    "# Specify the folder containing the images\n",
    "folder_path = \"./GPTFramesUnique\"\n",
    "\n",
    "# Process the folder in parallel\n",
    "output_dict = process_folder_parallel(folder_path, max_workers=8)\n",
    "\n",
    "# Save the results as a dictionary\n",
    "with open(\"GPTFramesUnique.json\", \"w\") as output_file:\n",
    "    json.dump(output_dict, output_file, indent=4)\n",
    "\n",
    "print(\"Processing complete. Results saved to 'GPTFramesUnique.json'.\")"
   ]
  },
  {
   "cell_type": "code",
   "execution_count": null,
   "metadata": {},
   "outputs": [],
   "source": []
  }
 ],
 "metadata": {
  "kernelspec": {
   "display_name": "cvpr",
   "language": "python",
   "name": "python3"
  },
  "language_info": {
   "codemirror_mode": {
    "name": "ipython",
    "version": 3
   },
   "file_extension": ".py",
   "mimetype": "text/x-python",
   "name": "python",
   "nbconvert_exporter": "python",
   "pygments_lexer": "ipython3",
   "version": "3.11.8"
  }
 },
 "nbformat": 4,
 "nbformat_minor": 2
}
