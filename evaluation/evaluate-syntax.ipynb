{
 "cells": [
  {
   "cell_type": "code",
   "execution_count": 32,
   "metadata": {},
   "outputs": [
    {
     "name": "stdout",
     "output_type": "stream",
     "text": [
      "Accuracy: 100.0%\n"
     ]
    }
   ],
   "source": [
    "import re\n",
    "\n",
    "def extract_code_snippets(file_path):\n",
    "    code_snippets = []\n",
    "    try:\n",
    "        with open(file_path, 'r', encoding='utf-8') as file:\n",
    "            content = file.read()\n",
    "        # Regular expression to match text within triple backticks\n",
    "        code_snippets = re.findall(r\"```python(.*?)```\", content, re.DOTALL)\n",
    "    except FileNotFoundError:\n",
    "        print(f\"File not found: {file_path}\")\n",
    "    except Exception as e:\n",
    "        print(f\"An error occurred: {e}\")\n",
    "    return code_snippets\n",
    "\n",
    "def remove_uniform_indentation(code_snippet):\n",
    "    lines = code_snippet.splitlines()\n",
    "    # Remove empty lines at the beginning and end\n",
    "    lines = [line for line in lines if line.strip()]\n",
    "\n",
    "    # Find the minimum indentation level of all non-empty lines\n",
    "    min_indent = min((len(line) - len(line.lstrip())) for line in lines if line.strip())\n",
    "\n",
    "    # Remove the indentation\n",
    "    adjusted_lines = [line[min_indent:] if len(line) > min_indent else line for line in lines]\n",
    "    return '\\n'.join(adjusted_lines)\n",
    "\n",
    "file_path = \"../generated_blog.md\"  \n",
    "snippets = extract_code_snippets(file_path)\n",
    "\n",
    "def validate_syntax(code_snippet):\n",
    "    try:\n",
    "        # Attempt to compile the code snippet\n",
    "        code_snippet = remove_uniform_indentation(code_snippet)\n",
    "        compile(code_snippet, '<string>', 'exec')\n",
    "        return 1\n",
    "    except SyntaxError as e:\n",
    "        # print(code_snippet)\n",
    "        return 0\n",
    "\n",
    "\n",
    "results = []\n",
    "for snippet in snippets:\n",
    "    result = validate_syntax(snippet)\n",
    "    results.append(result)\n",
    "\n",
    "print(f\"Accuracy: {sum(results)/len(results)*100}%\")  \n"
   ]
  },
  {
   "cell_type": "code",
   "execution_count": null,
   "metadata": {},
   "outputs": [],
   "source": []
  }
 ],
 "metadata": {
  "kernelspec": {
   "display_name": "cvpr",
   "language": "python",
   "name": "python3"
  },
  "language_info": {
   "codemirror_mode": {
    "name": "ipython",
    "version": 3
   },
   "file_extension": ".py",
   "mimetype": "text/x-python",
   "name": "python",
   "nbconvert_exporter": "python",
   "pygments_lexer": "ipython3",
   "version": "3.11.8"
  }
 },
 "nbformat": 4,
 "nbformat_minor": 2
}
